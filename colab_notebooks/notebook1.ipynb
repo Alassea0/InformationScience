{
  "nbformat": 4,
  "nbformat_minor": 0,
  "metadata": {
    "orig_nbformat": 2,
    "colab": {
      "name": "notebook1.ipynb",
      "provenance": []
    },
    "kernelspec": {
      "name": "python3",
      "display_name": "Python 3"
    }
  },
  "cells": [
    {
      "cell_type": "markdown",
      "metadata": {
        "id": "3Nc2UI3mvGZF",
        "colab_type": "text"
      },
      "source": [
        "# Chapter 1"
      ]
    }
  ]
}