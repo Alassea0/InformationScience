{
 "metadata": {
  "language_info": {
   "codemirror_mode": {
    "name": "ipython",
    "version": 3
   },
   "file_extension": ".py",
   "mimetype": "text/x-python",
   "name": "python",
   "nbconvert_exporter": "python",
   "pygments_lexer": "ipython3",
   "version": "3.8.2-final"
  },
  "orig_nbformat": 2,
  "kernelspec": {
   "name": "python_defaultSpec_1599211598047",
   "display_name": "Python 3.8.2 64-bit"
  }
 },
 "nbformat": 4,
 "nbformat_minor": 2,
 "cells": [
  {
   "cell_type": "markdown",
   "metadata": {},
   "source": [
    "# Chapter 04"
   ]
  },
  {
   "cell_type": "markdown",
   "metadata": {},
   "source": [
    "## Information vs Database Models\n",
    "\n",
    "Classic Information Retrieval would usually start with a discussion of different information models, as does [Modern Information Retrieval](https://isbnsearch.org/isbn/9780321416919) (chapter 3):\n",
    "\n",
    "> Modeling in IR is a complex process aimed at producing a ranking function, i.e., a function that assigns scores to documents with regard to a given query. This process consists of two main tasks: (a) the conception of a logical framework for representing documents and queries and (b) the definition of a ranking function that computes a rank for each document with regard to a given query.\n",
    "\n",
    "While this is IR models are obviously very interesting, the discussion is also highly theoretical and requires no small amount of mathematics (set theory, algebra, probability theory, ...). Therefore, it seems more practical and applicable to talk about databases instead as different \"models\" of information. Indeed, in real-world applications, you will most likely have to deal with information retrieval from (some kind of) database.\n"
   ]
  },
  {
   "cell_type": "markdown",
   "metadata": {},
   "source": [
    "## Databases\n",
    "\n",
    "[Wikipedia](https://en.wikipedia.org/wiki/Database) defines a database as a \"an organized collection of data, generally stored and accessed electronically from a computer system\". Such a broad definition allows for many different kinds of databases, ranging from a single text file (e.g. the line `apples,oranges,grapes` is a database) to complex database management systems (DBMS) like MySQL that operate on large data structures.\n",
    "\n",
    "### Database models\n",
    "\n",
    "The classification of databases is a topic for a course on its own. For now, it will suffice to say that the development of database technology can be divided into three eras based on data model or structure: navigational, relational/SQL, and post-relational.\n",
    "\n",
    "#### Navigational\n",
    "\n",
    "[Wikipedia](https://en.wikipedia.org/wiki/Navigational_database) says\n",
    "\n",
    ">A navigational database is a type of database in which records or objects are found primarily by following references from other objects. The term was popularized by the title of Charles Bachman's 1973 Turing Award paper, The Programmer as Navigator. This paper emphasized the fact that the new disk-based database systems allowed the programmer to choose arbitrary navigational routes following relationships from record to record, contrasting this with the constraints of earlier magnetic-tape and punched card systems where data access was strictly sequential.\n",
    "\n",
    "(...)\n",
    "\n",
    ">Although Bachman described the concept of navigation in abstract terms, the idea of navigational access came to be associated strongly with the procedural design of the CODASYL Data Manipulation Language. Writing in 1982, for example, Tsichritzis and Lochovsky state that \"The notion of currency is central to the concept of navigation.\" By the notion of currency, they refer to the idea that a program maintains (explicitly or implicitly) a current position in any sequence of records that it is processing, and that operations such as `GET NEXT` and `GET PRIOR` retrieve records relative to this current position, while also changing the current position to the record that is retrieved.\n",
    "\n",
    "#### Relational/SQL\n",
    "\n",
    "[Wikipedia1](https://en.wikipedia.org/wiki/Relational_model) and [Wikipedia2](https://en.wikipedia.org/wiki/Database) say:\n",
    "\n",
    ">The relational model (...) is an approach to managing data using a structure and language consistent with first-order predicate logic, first described in 1969 by English computer scientist Edgar F. Codd, where all data is represented in terms of tuples, grouped into relations. (...) he described a new system for storing and working with large databases. Instead of records being stored in some sort of linked list of free-form records (...), Codd's idea was to organise the data as a number of \"tables\", each table being used for a different type of entity. Each table would contain a fixed number of columns containing the attributes of the entity. One or more columns of each table were designated as a primary key by which the rows of the table could be uniquely identified; cross-references between tables always used these primary keys, rather than disk addresses, and queries would join tables based on these key relationships, using a set of operations based on the mathematical system of relational calculus (from which the model takes its name). Splitting the data into a set of normalized tables (or relations) aimed to ensure that each \"fact\" was only stored once, thus simplifying update operations. Virtual tables called views could present the data in different ways for different users, but views could not be directly updated.\n",
    "\n",
    ">The purpose of the relational model is to provide a declarative method for specifying data and queries: users directly state what information the database contains and what information they want from it, and let the database management system software take care of describing data structures for storing the data and retrieval procedures for answering queries.\n",
    "\n",
    ">Most relational databases use the SQL data definition and query language; these systems implement what can be regarded as an engineering approximation to the relational model. \n",
    "\n",
    "#### Post-relational\n",
    "\n",
    "[Wikipedia](https://en.wikipedia.org/wiki/NoSQL) says:\n",
    "\n",
    ">A NoSQL (originally referring to \"non-SQL\" or \"non-relational\") database provides a mechanism for storage and retrieval of data that is modeled in means other than the tabular relations used in relational databases. Such databases have existed since the late 1960s, but the name \"NoSQL\" was only coined in the early 21st century (...) NoSQL databases are increasingly used in big data and real-time web applications. NoSQL systems are also sometimes called \"Not only SQL\" to emphasize that they may support SQL-like query languages or sit alongside SQL databases in polyglot-persistent architectures.\n",
    "\n",
    ">Motivations for this approach include: simplicity of design, simpler \"horizontal\" scaling to clusters of machines (which is a problem for relational databases), finer control over availability and limiting the object-relational impedance mismatch. The data structures used by NoSQL databases (e.g. key–value pair, wide column, graph, or document) are different from those used by default in relational databases, making some operations faster in NoSQL. The particular suitability of a given NoSQL database depends on the problem it must solve. Sometimes the data structures used by NoSQL databases are also viewed as \"more flexible\" than relational database tables.\n",
    "\n",
    "Categories of post-relational databases include:\n",
    "\n",
    "* **key-value stores**, such as the MUMPS database by YottaDB that we use for Brocade, the University of Antwerp's Library Management System\n",
    "* **document stores**, such as XML or JSON\n",
    "* **triple stores**, such as RDF\n"
   ]
  },
  {
   "cell_type": "markdown",
   "metadata": {},
   "source": [
    "### Databases as Linked Data\n",
    "\n",
    "Another interesting way to think about databases is to consider them from the view point of Linked (open) Data.\n",
    "\n",
    "At [w3.org](https://www.w3.org/2011/gld/wiki/5_Star_Linked_Data) we read:\n",
    "\n",
    ">Tim Berners-Lee, the inventor of the Web and initiator of the Linked Data project, suggested a 5 star deployment scheme for Linked Data. The 5 Star Linked Data system is cumulative. Each additional star presumes the data meets the criteria of the previous step(s).\n",
    "\n",
    ">☆ Data is available on the Web, in whatever format.\t\n",
    "\n",
    ">☆☆ Available as machine-readable structured data, (i.e., not a scanned image).\n",
    "\n",
    ">☆☆☆ Available in a non-proprietary format, (i.e, CSV, not Microsoft Excel).\t\n",
    "\n",
    ">☆☆☆☆ Published using open standards from the W3C (RDF and SPARQL).\t\n",
    "\n",
    ">☆☆☆☆☆ All of the above and links to other Linked Open Data.\n",
    "\n",
    "In this way, we can organize different database types into a data hierarchy like such:\n",
    "\n",
    "![A hierarchy of databases](5-star-steps-open-data-5-star-model.png)\n",
    "\n",
    "* OL: Open License\n",
    "* RE: Readable\n",
    "* OF: Open format\n",
    "* URI: Uniform Resource Identifier\n",
    "* LD: Linked Data\n",
    "\n",
    "For a good description of this summary, see [this article](https://www.ontotext.com/knowledgehub/fundamentals/five-star-linked-open-data/)."
   ]
  },
  {
   "cell_type": "markdown",
   "metadata": {},
   "source": [
    "## XML"
   ]
  },
  {
   "cell_type": "markdown",
   "metadata": {},
   "source": [
    "## JSON"
   ]
  },
  {
   "cell_type": "markdown",
   "metadata": {},
   "source": [
    "## SQL"
   ]
  },
  {
   "cell_type": "code",
   "execution_count": null,
   "metadata": {},
   "outputs": [],
   "source": []
  }
 ]
}