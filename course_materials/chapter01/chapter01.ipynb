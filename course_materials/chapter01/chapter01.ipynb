{
 "cells": [
  {
   "cell_type": "markdown",
   "metadata": {},
   "source": [
    "# Chapter 01"
   ]
  },
  {
   "cell_type": "markdown",
   "metadata": {},
   "source": [
    "## Welcome\n",
    "\n",
    "Welcome to the course \"Information Science\" (2020-2021) for the  University of Antwerp Master of Linguistics (from 2021-2022 onwards: \"Master of Digital Text Analysis\")!"
   ]
  },
  {
   "cell_type": "markdown",
   "metadata": {},
   "source": [
    "## Contents\n",
    "\n",
    "This chapter of the course includes:\n",
    "\n",
    "- an introduction of me, your teacher\n",
    "- technical setup for this course\n",
    "- ..."
   ]
  },
  {
   "cell_type": "markdown",
   "metadata": {},
   "source": [
    "## Who am I and why does that matter?\n",
    "\n",
    "### Who am I?\n",
    "\n",
    "My name is Tom Deneire, I hold a PhD in Classics from the Katholieke Universiteit Leuven (2009). \n",
    "\n",
    "From 2009-2013 I worked as a **postdoctoral researcher** (Neo-Latin Studies) and a visiting professor (Latin rhetoric and stylistics), focussing mainly on the interplay of Neo-Latin and the vernacular, literary theory and dabbling in (then emerging) Digital Humanities (see e.g. [Deneire 2018](https://hdl.handle.net/10067/1535070151162165141)).\n",
    "\n",
    "In 2013 I moved to the University Library of Antwerp as **Curator of the Special Collections**, where I became increasingly interested in digitization and data science. I started studying  XML, SQL and Python, and using these digital tools to aggregate and research library metadata.\n",
    "\n",
    "In 2018 this lead to a switch from the Special Collections to the University Library's software department [Anet](https://www.uantwerpen.be/nl/projecten/anet/), where I have been  working since then as a **software engineer**. Nowadays I mainly use Python and MUMPS, a language for our database engine (GT.M, provided by [YottaDB](https://yottadb.com/)). My current project is a complete rewrite and integration of the library's modules for authority files. Occasionally, I also use Golang, PHP, Javascript and CSS. I use Linux Mint as OS.\n",
    "\n",
    "(More information about me and links at https://tomdeneire.github.io/).\n",
    "\n",
    "### Why does that matter?\n",
    "\n",
    "The above should make clear that I am not a Computer Science major, nor have I been a professional developer for a long time. Indeed, at first I was not sure if I should really be teaching this course! So be warned that I will certainly not have all the answers in this course! On the other hand, my own profile is very kindred to that of my intended audience: humanities students looking to acquire digital skills. I hope this common perspective will enable me to teach what such students need most from a vast field such as Information Science.\n",
    "\n",
    "\n"
   ]
  },
  {
   "cell_type": "markdown",
   "metadata": {},
   "source": [
    "## Technical setup\n",
    "\n",
    "I have prepared this course as a series of Jupyter Notebooks in my editor VS Code (which is [free](https://code.visualstudio.com/)!, if you're looking for an excellent editor) and published on the GitHub repo for this course: https://github.com/TomDeneire/InformationScience. \n",
    "\n",
    "I have chosen Jupyter Notebooks because they offer a way to teach both in a classroom and online (should COVID-19 regulations prohibit live teaching). You can choose how you view these notebooks and execute their code: either in an editor such as VS code, in your browser through Jupyter (Lab or Notebook) (https://jupyter.org/install), or (if you don't want to install Jupyter on your machine) through [Google Colab](https://colab.research.google.com/notebooks/).\n",
    "\n",
    "In order to obtain these course materials and to participate with the course, please do the following:\n",
    "\n",
    "1. fork this repo to your own GitHub account\n",
    "2. clone it to your local machine\n",
    "3. make and push changes \n",
    "\n",
    "The third step especially applies to the exercise files. By commiting and pushing your changes I will be able to see them by going through the different forks to my repo. And of course if you find errors in the other course materials or want to propose changes, you can also make pull requests.\n",
    "\n",
    "If you're unsure how to do all of this, [this](https://guides.github.com/activities/forking/) will help.\n",
    "\n",
    "To be sure everyone is setup okay, please do the following:\n",
    "\n",
    "1. put some test code in `test.py`, commit and push these changes to your fork\n",
    "2. add your name to this notebook through a pull request"
   ]
  },
  {
   "cell_type": "markdown",
   "metadata": {},
   "source": [
    "## Students\n",
    "\n",
    "1. ..."
   ]
  }
 ],
 "metadata": {
  "kernelspec": {
   "display_name": "Python 3",
   "language": "python",
   "name": "python3"
  },
  "language_info": {
   "codemirror_mode": {
    "name": "ipython",
    "version": 3
   },
   "file_extension": ".py",
   "mimetype": "text/x-python",
   "name": "python",
   "nbconvert_exporter": "python",
   "pygments_lexer": "ipython3",
   "version": "3.7.1-final"
  }
 },
 "nbformat": 4,
 "nbformat_minor": 4
}