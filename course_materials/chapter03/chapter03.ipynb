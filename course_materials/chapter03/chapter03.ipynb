{
 "metadata": {
  "language_info": {
   "codemirror_mode": {
    "name": "ipython",
    "version": 3
   },
   "file_extension": ".py",
   "mimetype": "text/x-python",
   "name": "python",
   "nbconvert_exporter": "python",
   "pygments_lexer": "ipython3",
   "version": 3
  },
  "orig_nbformat": 2
 },
 "nbformat": 4,
 "nbformat_minor": 2,
 "cells": [
  {
   "cell_type": "markdown",
   "metadata": {},
   "source": [
    "# Chapter 03\n"
   ]
  },
  {
   "cell_type": "markdown",
   "metadata": {},
   "source": [
    "## Getting started\n",
    "\n",
    "A good way to get started is reading the first chapter of [Modern Information Retrieval](https://isbnsearch.org/isbn/9780321416919), which I recommend you do.\n",
    "\n",
    "However, for now, let's look at another [introduction](https://learning.oreilly.com/library/view/information-architecture-4th/9781491913529/ch01.html#hellocomma_itunes), the one to [Information Architecture](https://isbnsearch.org/isbn/9781491911686), also mentioned in our [reading list](https://github.com/TomDeneire/InformationScience/blob/master/README.md). Even though this is an introduction about information **architecture** (yet another discipline!), it still serves very well as a concrete example of the different considerations to take into account when it comes to information retrieval.\n",
    "\n",
    "(For copyright reasons, I will share a PDF version of this chapter with you through personal email rather than posting it in the public GitHub repo. Please do not disseminate it yourselves.)\n",
    "\n"
   ]
  }
 ]
}