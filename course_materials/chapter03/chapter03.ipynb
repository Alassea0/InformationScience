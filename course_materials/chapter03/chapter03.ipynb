{
 "metadata": {
  "language_info": {
   "codemirror_mode": {
    "name": "ipython",
    "version": 3
   },
   "file_extension": ".py",
   "mimetype": "text/x-python",
   "name": "python",
   "nbconvert_exporter": "python",
   "pygments_lexer": "ipython3",
   "version": "3.8.2-final"
  },
  "orig_nbformat": 2,
  "kernelspec": {
   "name": "python_defaultSpec_1597404337965",
   "display_name": "Python 3.8.2 64-bit"
  }
 },
 "nbformat": 4,
 "nbformat_minor": 2,
 "cells": [
  {
   "cell_type": "markdown",
   "metadata": {},
   "source": [
    "# Chapter 03\n"
   ]
  },
  {
   "cell_type": "markdown",
   "metadata": {},
   "source": [
    "## Getting started\n",
    "\n",
    "A good way to get started is reading the first chapter of [Modern Information Retrieval](https://isbnsearch.org/isbn/9780321416919), which I recommend you do.\n",
    "\n",
    "However, for now, let's look at another [introduction](https://learning.oreilly.com/library/view/information-architecture-4th/9781491913529/ch01.html#hellocomma_itunes), the one to [Information Architecture](https://isbnsearch.org/isbn/9781491911686), also mentioned in our [reading list](https://github.com/TomDeneire/InformationScience/blob/master/README.md). Even though this is an introduction about information **architecture** (yet another discipline!), i.e. it looks at things from the perspective of information **design** rather than **retrieval**, it still serves very well as a concrete example of the different considerations to take into account when it comes to information retrieval.\n",
    "\n",
    "(For copyright reasons, I will share a PDF version of this chapter with you through personal email rather than posting it in the public GitHub repo. Please do not disseminate it yourselves.)\n",
    "\n",
    "## Manipulating Information\n",
    "\n",
    "The case of iTunes shows several things, but above all it makes it clear that information (or metadata in this case) never just *is*. It is always manipulated in order to present it in a certain way. So we could say that at the heart of information retrieval is **manipulating information**, i.e. selecting, grouping, filtering, ordering, sorting, ranking. (For those of you who know [SQL](https://en.wikipedia.org/wiki/SQL), notice how this resembles the `select` statement? For those of you who don't, don't worry, we'll look into it later on.)\n",
    "\n",
    "In programming terms, most of this boils down to string operations, like testing metadata for certain criteria or sorting them. And while manipulating strings might seem easy, things can get complicated really easily."
   ]
  },
  {
   "cell_type": "markdown",
   "metadata": {},
   "source": [
    "## Example: sorting strings\n",
    "\n",
    "Let's look at the example of sorting strings. Suppose our information retrieval task is presenting an alphabetized list of contact persons. The alphabet is a recognizable and expected key for such a list, so that makes sense. \n",
    "\n",
    "Of course, in Python you can just do this:"
   ]
  },
  {
   "cell_type": "code",
   "execution_count": 7,
   "metadata": {
    "tags": []
   },
   "outputs": [
    {
     "output_type": "stream",
     "name": "stdout",
     "text": "['Doe, Jane', 'Doe, John', 'Poppins, Mary']\n"
    }
   ],
   "source": [
    "contacts = [\"Doe, John\", \"Poppins, Mary\", \"Doe, Jane\"]\n",
    "sorted_contacts = sorted(contacts)\n",
    "print(sorted_contacts)"
   ]
  },
  {
   "cell_type": "markdown",
   "metadata": {},
   "source": [
    "But suppose you are dealing with a language where there is no built in sorting method. (And believe me, there are!) How would you go about sorting a list of strings?\n",
    "\n",
    "Let me simplify the problem. Somewhere along the line you will have to represent individual characters as numbers, e.g. a = 1, b = 2, and then sort numbers.\n",
    "\n",
    "So let's think about the root issue: how do you sort a list of numbers?"
   ]
  },
  {
   "cell_type": "code",
   "execution_count": 10,
   "metadata": {
    "tags": []
   },
   "outputs": [
    {
     "output_type": "stream",
     "name": "stdout",
     "text": "[1, 2, 7, 7, 8]\n"
    }
   ],
   "source": [
    "numbers = [7, 8, 1, 7, 2]\n",
    "sorted_numbers = sorted(numbers)\n",
    "print(sorted_numbers)"
   ]
  },
  {
   "cell_type": "markdown",
   "metadata": {},
   "source": [
    "Of course, the sorting algorithm is a well-known chapter in Computer Science. Some of you might be familiar with different kinds of sorts, like merge sort, insertion sort or (my favourite) bubble sort. For some Python implementations, see this [Tutorialspoint article](https://www.tutorialspoint.com/python_data_structure/python_sorting_algorithms.htm).\n",
    "\n",
    "But if you have never studied it, writing your own sort for the first time will not be an easy exercise. I challenge you, if you've never done it. For a bit of fun, here's another kind of sort I recently implemented in Python: *random sort*. Very time-inefficient, but perfectly functional!"
   ]
  },
  {
   "cell_type": "code",
   "execution_count": 12,
   "metadata": {
    "tags": []
   },
   "outputs": [
    {
     "output_type": "stream",
     "name": "stdout",
     "text": "[1, 2, 7, 7, 8]\n"
    }
   ],
   "source": [
    "def random_sort(InputList):\n",
    "    from random import shuffle\n",
    "    check = 0\n",
    "    while check == 0:\n",
    "        shuffle(InputList)\n",
    "        test = 0\n",
    "        for unsorted in InputList:\n",
    "            if unsorted >= test:\n",
    "                check = 1\n",
    "            else:\n",
    "                check = 0\n",
    "                break\n",
    "            test = unsorted\n",
    "    return InputList\n",
    "\n",
    "print(random_sort(numbers))"
   ]
  },
  {
   "cell_type": "markdown",
   "metadata": {},
   "source": [
    "And that's only the first part of the problem: sorting lists of numbers. Now try to think how this would help to sort lists of strings. First of all, how would you translate strings to numbers? \n",
    "\n",
    "One way is to use [Unicode](https://en.wikipedia.org/wiki/Unicode) code points for numbers:\n"
   ]
  },
  {
   "cell_type": "code",
   "execution_count": 28,
   "metadata": {
    "tags": []
   },
   "outputs": [
    {
     "output_type": "stream",
     "name": "stdout",
     "text": "68,111,101,44,32,74,111,104,110,"
    }
   ],
   "source": [
    "for char in \"Doe, John\":\n",
    "    print(ord(char), end=\",\")"
   ]
  },
  {
   "cell_type": "markdown",
   "metadata": {},
   "source": [
    "But of course when the case changes, the numbers will also change:"
   ]
  },
  {
   "cell_type": "code",
   "execution_count": 40,
   "metadata": {
    "tags": []
   },
   "outputs": [
    {
     "output_type": "stream",
     "name": "stdout",
     "text": "100,111,101,44,32,106,111,104,110,"
    }
   ],
   "source": [
    "for char in \"doe, john\":\n",
    "    print(ord(char),end=\",\")"
   ]
  },
  {
   "cell_type": "markdown",
   "metadata": {},
   "source": [
    "You can account for that by converting all strings to lower case first, but what happens in the case of `Étienne` versus `Etienne`, which are usually interchangeable?"
   ]
  },
  {
   "cell_type": "code",
   "execution_count": 42,
   "metadata": {
    "tags": []
   },
   "outputs": [
    {
     "output_type": "stream",
     "name": "stdout",
     "text": "é = 233\nt = 116\ni = 105\ne = 101\nn = 110\nn = 110\ne = 101\n\n\ne = 101\nt = 116\ni = 105\ne = 101\nn = 110\nn = 110\ne = 101\n"
    }
   ],
   "source": [
    "for char in \"Étienne\".lower():\n",
    "    print(char + \" = \" + str(ord(char)))\n",
    "print(\"\\n\")\n",
    "for char in \"Etienne\".lower():\n",
    "    print(char + \" = \" + str(ord(char)))"
   ]
  },
  {
   "cell_type": "markdown",
   "metadata": {},
   "source": [
    "And, by the way, do you know the encoding of the strings the list will contain? And why does that matter?\n",
    "\n",
    "You can see how complex seemingly trivial tasks of information retrieval, like alphabetizing a list, really are."
   ]
  },
  {
   "cell_type": "markdown",
   "metadata": {},
   "source": []
  }
 ]
}