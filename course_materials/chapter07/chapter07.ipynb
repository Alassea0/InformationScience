{
 "metadata": {
  "language_info": {
   "codemirror_mode": {
    "name": "ipython",
    "version": 3
   },
   "file_extension": ".py",
   "mimetype": "text/x-python",
   "name": "python",
   "nbconvert_exporter": "python",
   "pygments_lexer": "ipython3",
   "version": 3
  },
  "orig_nbformat": 2
 },
 "nbformat": 4,
 "nbformat_minor": 2,
 "cells": [
  {
   "source": [
    "# Chapter 7: Searching"
   ],
   "cell_type": "markdown",
   "metadata": {}
  },
  {
   "cell_type": "code",
   "execution_count": null,
   "metadata": {},
   "outputs": [],
   "source": []
  },
  {
   "source": [
    "## Regular expressions"
   ],
   "cell_type": "markdown",
   "metadata": {}
  },
  {
   "source": [
    "## Search evaluation\n",
    "\n",
    "... big topic in Information Retrieval, as search evaluation is crucial for ranking https://en.wikipedia.org/wiki/Evaluation_measures_(information_retrieval)"
   ],
   "cell_type": "markdown",
   "metadata": {}
  },
  {
   "source": [
    "### String metrics\n",
    "\n",
    "https://en.wikipedia.org/wiki/String_metric"
   ],
   "cell_type": "markdown",
   "metadata": {}
  }
 ]
}