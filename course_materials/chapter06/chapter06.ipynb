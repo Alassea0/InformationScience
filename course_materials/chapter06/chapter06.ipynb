{
 "metadata": {
  "language_info": {
   "codemirror_mode": {
    "name": "ipython",
    "version": 3
   },
   "file_extension": ".py",
   "mimetype": "text/x-python",
   "name": "python",
   "nbconvert_exporter": "python",
   "pygments_lexer": "ipython3",
   "version": 3
  },
  "orig_nbformat": 2
 },
 "nbformat": 4,
 "nbformat_minor": 2,
 "cells": [
  {
   "cell_type": "markdown",
   "metadata": {},
   "source": [
    "# Chapter 06"
   ]
  },
  {
   "cell_type": "markdown",
   "metadata": {},
   "source": [
    "***start"
   ]
  },
  {
   "cell_type": "markdown",
   "metadata": {},
   "source": [
    "## Indexing"
   ]
  },
  {
   "cell_type": "markdown",
   "metadata": {},
   "source": [
    "## Searching"
   ]
  },
  {
   "cell_type": "markdown",
   "metadata": {},
   "source": [
    "## Lucene\n",
    "\n",
    "The leading searching library for text searching is definitely [Lucene](https://lucene.apache.org/). However, Lucene is a Java library, which is not easy to implement (especially crossplatform as would be the case in this course). \n",
    "\n",
    "There is a Python extension for accessing Java Lucene, called [PyLucene](https://lucene.apache.org/pylucene/). Its goal is to allow you to use Lucene's text indexing and searching capabilities from Python. Still, PyLucene is not a Lucene **port** but a Python **wrapper** around Java Lucene. PyLucene embeds a Java VM with Lucene into a Python process. This means that you still need Java Lucene to run PyLucene, and some additional tools (GNU `Make`, a C++ compiler, etc.).\n",
    "\n"
   ]
  },
  {
   "cell_type": "markdown",
   "metadata": {},
   "source": [
    "## Whoosh\n",
    "\n",
    "As text indexing/searching is bound to be really slow in Python (so it make good sense to stick to Java Lucene) there is no true pure-Python alternative to Lucene. However, there are some libraries that allow you to experiment with similar indexing/searching software.\n",
    "\n",
    "One of these is [Whoosh](https://whoosh.readthedocs.io/en/latest/index.html), which is unfortunately no longer maintained. Still, the latest version, 2.7.4, still works fine for Python 3 and can easily be installed through `pip install Whoosh`.\n",
    "\n",
    "In the [Whoosh introduction](https://whoosh.readthedocs.io/en/latest/intro.html) we read:\n",
    "\n",
    "> ### About Whoosh\n",
    ">- Whoosh is fast, but uses only pure Python, so it will run anywhere Python runs, without requiring a compiler.\n",
    ">- By default, Whoosh uses the Okapi BM25F ranking function, but like most things the ranking function can be easily customized.\n",
    ">- Whoosh creates fairly small indexes compared to many other search libraries.\n",
    ">- All indexed text in Whoosh must be unicode.\n",
    ">- Whoosh lets you store arbitrary Python objects with indexed documents.\n",
    "\n",
    "> ### What is Woosh\n",
    "\n",
    ">Whoosh is a fast, pure Python search engine library.\n",
    "\n",
    ">The primary design impetus of Whoosh is that it is pure Python. You should be able to use Whoosh anywhere you can use Python, no compiler or Java required.\n",
    "\n",
    ">Like one of its ancestors, Lucene, Whoosh is not really a search engine, it’s a programmer library for creating a search engine.\n",
    "\n",
    ">Practically no important behavior of Whoosh is hard-coded. Indexing of text, the level of information stored for each term in each field, parsing of search queries, the types of queries allowed, scoring algorithms, etc. are all customizable, replaceable, and extensible.\n",
    "\n",
    "Indeed, Whoosh is quite similar to Lucene, including its query language. It lets you connect terms with `AND` or `OR`, eleminate terms with `NOT`, group terms together into clauses with parentheses, do range, prefix, and wilcard queries, and specify different fields to search. By default it joins clauses together with `AND` (so by default, all terms you specify must be in the document for the document to match)\n",
    "\n",
    "The following code shows you how to create and search a basic Whoosh index. For more information, see the [Whoosh quick start](https://whoosh.readthedocs.io/en/latest/quickstart.html) and documentation on the [query language](https://whoosh.readthedocs.io/en/latest/querylang.html).\n"
   ]
  },
  {
   "cell_type": "code",
   "execution_count": null,
   "metadata": {},
   "outputs": [],
   "source": [
    "\"\"\"\n",
    "Whoosh quick start\n",
    "Source: https://whoosh.readthedocs.io/en/latest/quickstart.html\n",
    "\"\"\"\n",
    "\n",
    "import os\n",
    "\n",
    "from whoosh import highlight\n",
    "from whoosh.index import open_dir, create_in\n",
    "from whoosh.fields import Schema, STORED, ID, KEYWORD, TEXT\n",
    "from whoosh.qparser import QueryParser\n",
    "from whoosh.query import *\n",
    "\n",
    "# Create schema\n",
    "\"\"\"\n",
    "To begin using Whoosh, you need an index object. The first time you create\n",
    "an index, you must define the index’s schema. The schema lists the fields in\n",
    "the index. A field is a piece of information for each document in the index,\n",
    "such as its title or text content. A field can be indexed (meaning it can be\n",
    "searched) and/or stored (meaning the value that gets indexed is returned with\n",
    "the results; this is useful for fields such as the title).\n",
    "\"\"\"\n",
    "\n",
    "schema = Schema(title=TEXT(stored=True), content=TEXT(stored=True),\n",
    "                path=ID(stored=True))\n",
    "\n",
    "# Create index\n",
    "\"\"\"\n",
    "Once you have the schema, you can create an index.\n",
    "At a low level, this creates a Storage object to contain the index.\n",
    "A Storage object represents that medium in which the index will be stored.\n",
    "Usually this will be FileStorage, which stores the index as a set of files\n",
    "in a directory.\n",
    "\"\"\"\n",
    "\n",
    "if not os.path.exists(\"index\"):\n",
    "    os.mkdir(\"index\")\n",
    "ix = create_in(\"index\", schema)\n",
    "\n",
    "# Open index\n",
    "\"\"\"\n",
    "After you’ve created an index, you can open it.\n",
    "\"\"\"\n",
    "ix = open_dir(\"index\")\n",
    "\n",
    "# Add documents\n",
    "\"\"\"\n",
    "OK, so we’ve got an Index object, now we can start adding documents.\n",
    "The writer() method of the Index object returns an IndexWriter object that\n",
    "lets you add documents to the index. The IndexWriter’s add_document(**kwargs)\n",
    "method accepts keyword arguments where the field name is mapped to a value.\n",
    "\n",
    "The documents we add, a small corpus of British fiction, are part of\n",
    "the chapter06 repo.\n",
    "\"\"\"\n",
    "\n",
    "writer = ix.writer()\n",
    "\n",
    "for document in os.listdir(\"documents\"):\n",
    "    with open(\"documents/\" + document, 'r') as text:\n",
    "        writer.add_document(title=document, content=text.read(),\n",
    "                            path=document)\n",
    "writer.commit()\n",
    "\n",
    "\n",
    "# Parse a query string\n",
    "\"\"\"\n",
    "Woosh's Searcher (cf.infra) takes a Query object. You can construct query\n",
    "objects directly or use a query parser to parse a query string.\n",
    "To parse a query string, you can use the default query parser in the qparser\n",
    "module. The first argument to the QueryParser constructor is the default field\n",
    "to search. This is usually the \"body text\" field. The second optional argument\n",
    "is a schema to use to understand how to parse the fields.\n",
    "\"\"\"\n",
    "parser = QueryParser(\"content\", ix.schema)\n",
    "myquery = parser.parse('\"My father was well known to the best circles\"')\n",
    "\n",
    "# Search documents\n",
    "\"\"\"\n",
    "Once you have a Searcher and a query object, you can use the Searcher's\n",
    "search() method to run the query and get a Results object. You can use the\n",
    "highlights() method on the whoosh.searching.Hit object to get highlighted\n",
    "snippets from the document containing the search terms.\n",
    "\n",
    "Woosh highlighting system works as a pipeline, with four component types.\n",
    "\n",
    "- Fragmenters chop up the original text into __fragments__, based on the\n",
    "locations of matched terms in the text.\n",
    "- Scorers assign a score to each fragment, allowing the system to rank the\n",
    "best fragments by whatever criterion.\n",
    "- Order functions control in what order the top-scoring fragments are presented\n",
    "to the user. For example, you can show the fragments in the order they appear\n",
    "in the document (FIRST) or show higher-scoring fragments first (SCORE)\n",
    "- Formatters turn the fragment objects into human-readable output,\n",
    "such as an HTML string.\n",
    "\"\"\"\n",
    "with ix.searcher() as searcher:\n",
    "    results = searcher.search(myquery)\n",
    "    results.fragmenter = highlight.SentenceFragmenter()\n",
    "    for item in results:\n",
    "        print(item.highlights(\"content\"))"
   ]
  },
  {
   "cell_type": "markdown",
   "metadata": {},
   "source": [
    "## Assignment: chunk hunter\n",
    "\n",
    "** look for 3, 4 and 5 word chunks (n-grams), sort according to frequency"
   ]
  }
 ]
}