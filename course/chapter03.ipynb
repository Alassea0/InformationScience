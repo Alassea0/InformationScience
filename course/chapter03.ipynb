{
 "cells": [
  {
   "cell_type": "markdown",
   "metadata": {},
   "source": [
    "# Chapter 3: Encoding\n"
   ]
  },
  {
   "cell_type": "markdown",
   "metadata": {},
   "source": [
    "![](images/Hello_World_Brainfuck.png)\n",
    "\n",
    "\"Hello world\" program in __[Brainfuck](https://en.wikipedia.org/wiki/Brainfuck)__\n"
   ]
  },
  {
   "cell_type": "markdown",
   "metadata": {},
   "source": [
    "> *TL;DR: There is no such thing as pure information. Information is encoded and needs to be decoded and manipulated before use."
   ]
  },
  {
   "cell_type": "markdown",
   "metadata": {},
   "source": [
    "## Manipulating Information\n",
    "\n",
    "Let's go back to Paul Otlet and his index cards for a minute. For me, one of the key takeaways of this story is the simple fact that information never just *is*. Even when we thing we are merely making it accessable through catalogs or search engines, information is, as postmodern philosopher [Jacques Derrida](https://en.wikipedia.org/wiki/Jacques_Derrida) would say, *always already* manipulated. \n",
    "\n",
    "So we could say that at the heart of information retrieval is **manipulating information**, i.e. selecting, grouping, filtering, ordering, sorting, ranking. In fact, `select`, `group`, `filter`, `order`, `sort` and `rank` are the most important keywords in the world's most used database query language, [SQL](https://en.wikipedia.org/wiki/SQL), which we will talk about later.\n",
    "\n",
    "In programming terms, this manipulation often boils down to basic **string operations**, like testing metadata for certain criteria or sorting them. And while manipulating strings might seem easy, things can get complicated really easily."
   ]
  },
  {
   "cell_type": "markdown",
   "metadata": {},
   "source": [
    "## Sorting strings\n",
    "\n",
    "Let's look at the example of sorting strings. Suppose our task is presenting an alphabetized list of contact persons. \n",
    "\n",
    "Of course, in Python you can just do this:"
   ]
  },
  {
   "cell_type": "code",
   "execution_count": 1,
   "metadata": {
    "tags": []
   },
   "outputs": [
    {
     "name": "stdout",
     "output_type": "stream",
     "text": [
      "['Doe, Jane', 'Doe, John', 'Poppins, Mary']\n"
     ]
    }
   ],
   "source": [
    "contacts = [\"Doe, John\", \"Poppins, Mary\", \"Doe, Jane\"]\n",
    "sorted_contacts = sorted(contacts)\n",
    "print(sorted_contacts)"
   ]
  },
  {
   "cell_type": "markdown",
   "metadata": {},
   "source": [
    "But suppose you are dealing with a programming language where there is no built-in sorting method. (And believe me, there are!) How would you go about sorting a list of strings?\n",
    "\n",
    "The key to this problem is that in computing there really is no such thing as characters. All characters are represented by some numerical value and various sorting algorithms use these values to implement string sorting. \n",
    "\n",
    "This takes us to the issue of encoding, which is at the heart of all things digital."
   ]
  },
  {
   "cell_type": "markdown",
   "metadata": {},
   "source": [
    "## Encoding\n",
    "\n",
    "Encoding is not an easy concept to wrap your head around. When I first started out programming, I took me quite some time to really grasp it. So let's see if we can come to understand it. \n",
    "\n",
    "(The following text is also available as a Medium blogpost called [Text versus bytes](https://medium.com/analytics-vidhya/dev-101-text-versus-bytes-70548216409b))\n",
    "\n",
    "### [Ones and zeros]{.c10 .c6} {#h.88m4p5xyz1xu .c5}\n",
    "\n",
    "[A computer is an electronic device, which really only \"understands\" on\n",
    "and off. Think of how the light goes on and off when you flip the\n",
    "switch. In a way, a computer is basically a giant collection of light\n",
    "switches.]{.c0}\n",
    "\n",
    "This is why a computer's processor can only operate on 0 and 1 , or\n",
    "[bits]{.c6}[, which can be combined to represent binary numbers, e.g.\n",
    "100 = 4 . It is these binary numbers that the processor uses as both\n",
    "data and instructions (a.k.a. \"machine code\").]{.c0}\n",
    "\n",
    "It makes sense to group bits into units; otherwise, we would just end up\n",
    "with one long string of ones and zeros and no way to chop it up into\n",
    "meaningful parts. A group of eight binary digits is called a\n",
    "[byte]{.c6}[, but historically the size of the byte is not strictly\n",
    "defined. In general, though, modern computer architectures work with an\n",
    "8-bit byte.]{.c0}\n",
    "\n",
    "### [Bytes]{.c6 .c10} {#h.eljvb4v61p0g .c5}\n",
    "\n",
    "[This binary nature of computers means that on a fundamental level all\n",
    "data is just a collection of bytes. Take files, for instance. In\n",
    "essence, there's no difference between a text file, an image or an\n",
    "executable. So it's actually a bit (pun not intended) confusing when\n",
    "people talk about the \"binary\" files, i.e. not human-readable, as\n",
    "opposed to human-readable \"text\".]{.c0}\n",
    "\n",
    "[Let's look at an example myfile:]{.c0}\n",
    "\n",
    "[\\$ xxd -b myfile]{.c0}\n",
    "\n",
    "[00000000: 01101000 01100101 01101100 01101100 01101111 00100000 ]{.c0}\n",
    "\n",
    "[00000006: 01110111 01101111 01110010 01101100 01100100 00001010]{.c0}\n",
    "\n",
    "[The instruction xxd -b asks for a binary \"dump\" of myfile . We see that\n",
    "it contains 12 eight-bit bytes. Because the binary representation is\n",
    "difficult on the eyes, bytes are often displayed as hexadecimal\n",
    "numbers:]{.c0}\n",
    "\n",
    "[\\$ xxd -g 1 myfile]{.c0}\n",
    "\n",
    "[00000000: 68 65 6c 6c 6f 20 77 6f 72 6c 64 0a]{.c0}\n",
    "\n",
    "[Or (less often) as decimal numbers:]{.c0}\n",
    "\n",
    "[\\$ od -t d1 myfile]{.c0}\n",
    "\n",
    "[0000000  104  101  108  108  111   32  119  111  114  108  100  \n",
    "10]{.c0}\n",
    "\n",
    "[In decimals, 8-bit bytes go up to 256, which makes sense as 2⁸ = 256,\n",
    "i.e. eight positions can hold either zero or one, which equals 256\n",
    "combinations.]{.c0}\n",
    "\n",
    "[But how do we know what these bytes represent?]{.c0}\n",
    "\n",
    "### [Encoding]{.c10 .c6} {#h.saxe3nkew00v .c5}\n",
    "\n",
    "[In order to interpret bytes in an meaningful way, for instance to\n",
    "display them as text or as an image, we need to give the computer\n",
    "additional information. This is done in several ways, one of which is\n",
    "predetermining the file structure with identifiable sequences of\n",
    "bytes.]{.c0}\n",
    "\n",
    "Another is specifying an [encoding]{.c6}[, which you can think of as a\n",
    "lookup table connecting meaning to its corresponding digital\n",
    "representation. When it comes to text, we call this \"character\n",
    "encoding\". Turning characters into code is referred to as \"encoding\",\n",
    "interpreting code as characters is \"decoding\".]{.c0}\n",
    "\n",
    "One of the earliest character encoding standards\n",
    "was[ ](https://www.google.com/url?q=https://en.wikipedia.org/wiki/ASCII&sa=D&source=editors&ust=1634027861107000&usg=AOvVaw3VqESqHHIZU2kxnYzVxuW7){.c2}[[ASCII](https://www.google.com/url?q=https://en.wikipedia.org/wiki/ASCII&sa=D&source=editors&ust=1634027861107000&usg=AOvVaw3VqESqHHIZU2kxnYzVxuW7){.c2}]{.c8},\n",
    "which specifies that the character a is represented as byte 61\n",
    "(hexadecimal) or 97 (decimal) or 01100001 (binary). However, since 8-bit\n",
    "bytes only give you 256 possibilities, today multibyte encodings are\n",
    "used. In the past, different areas of the world used different\n",
    "encodings, which was software's Tower of Babel, causing a bunch of\n",
    "communication problems to this day. Luckily,\n",
    "today[ ](https://www.google.com/url?q=https://en.wikipedia.org/wiki/UTF-8&sa=D&source=editors&ust=1634027861107000&usg=AOvVaw0rk8D_fX3OL2_zxnZ2XcY-){.c2}[[UTF-8](https://www.google.com/url?q=https://en.wikipedia.org/wiki/UTF-8&sa=D&source=editors&ust=1634027861107000&usg=AOvVaw0rk8D_fX3OL2_zxnZ2XcY-){.c2}]{.c8}[ ]{.c8}is\n",
    "more or less the international standard --- for instance, accounting for\n",
    "97% of all web pages. UTF-8 is capable of encoding all 1,112,064 valid\n",
    "character[ ](https://www.google.com/url?q=https://en.wikipedia.org/wiki/Code_point&sa=D&source=editors&ust=1634027861108000&usg=AOvVaw3B60mlM721n04ngiH2hGTh){.c2}[[code\n",
    "points](https://www.google.com/url?q=https://en.wikipedia.org/wiki/Code_point&sa=D&source=editors&ust=1634027861108000&usg=AOvVaw3B60mlM721n04ngiH2hGTh){.c2}]{.c8} in[ ](https://www.google.com/url?q=https://en.wikipedia.org/wiki/Unicode&sa=D&source=editors&ust=1634027861108000&usg=AOvVaw1lt_l8U8itxu9HRH5ayUl2){.c2}[[Unicode](https://www.google.com/url?q=https://en.wikipedia.org/wiki/Unicode&sa=D&source=editors&ust=1634027861108000&usg=AOvVaw1lt_l8U8itxu9HRH5ayUl2){.c2}]{.c8}[ using\n",
    "one to four one-byte units.]{.c0}\n",
    "\n",
    "### [Bytes as text]{.c10 .c6} {#h.5q5o5so36l9 .c5}\n",
    "\n",
    "[Going back to our file, we can now ask the computer to interpret these\n",
    "bytes as text. It is important to realize that any time we display bytes\n",
    "as text, be it in a terminal, a word processor, an editor or a browser,\n",
    "we need a character encoding. Often, we are unaware of encoding that is\n",
    "used, but there is always a choice to be made, whether by default\n",
    "settings or by some clever software that tries to identify the\n",
    "encoding.]{.c0}\n",
    "\n",
    "[Terminals, for instance, have a default character setting --- mine is\n",
    "set to UTF-8. So when we ask to print myfile we see this:]{.c0}\n",
    "\n",
    "[\\$ cat myfile]{.c0}\n",
    "\n",
    "[hello world]{.c0}\n",
    "\n",
    "[This means the bytes we discussed earlier are the UTF-8 representation\n",
    "of the string hello world . For this example, other character encodings,\n",
    "like ASCII or ISO-Latin-1 would yield the same result. But the\n",
    "difference quickly becomes clear when look at another example.]{.c0}\n",
    "\n",
    "[Let's save the UTF-8 encoded text string El Niño as a file and then\n",
    "print it. We can do that in the terminal --- remember, it's set to UTF-8\n",
    "display by default:]{.c0}\n",
    "\n",
    "[\\$ echo \\\"El Niño\\\" \\> myfile]{.c0}\n",
    "\n",
    "[\\$ cat myfile]{.c0}\n",
    "\n",
    "[El Niño]{.c0}\n",
    "\n",
    "Now let's change the terminal's encoding\n",
    "to[ ](https://www.google.com/url?q=https://en.wikipedia.org/wiki/Windows-1252&sa=D&source=editors&ust=1634027861110000&usg=AOvVaw0KM9jmQ_RsU4qnxqsp2TwE){.c2}[[CP-1252](https://www.google.com/url?q=https://en.wikipedia.org/wiki/Windows-1252&sa=D&source=editors&ust=1634027861110000&usg=AOvVaw0KM9jmQ_RsU4qnxqsp2TwE){.c2}]{.c8}[ and\n",
    "see what happens when we print the same file:]{.c0}\n",
    "\n",
    "[\\$ cat myfile]{.c0}\n",
    "\n",
    "[El NiÃ±o]{.c0}\n",
    "\n",
    "We call\n",
    "this[ ](https://www.google.com/url?q=https://en.wikipedia.org/wiki/Mojibake&sa=D&source=editors&ust=1634027861110000&usg=AOvVaw0L_k5RV11VJWHftpENblvx){.c2}[[Mojibake](https://www.google.com/url?q=https://en.wikipedia.org/wiki/Mojibake&sa=D&source=editors&ust=1634027861111000&usg=AOvVaw02CIe7NEqhD2UlFjwuvm8i){.c2}]{.c8}[;\n",
    "the garbled text that I'm sure you've often seen under the form of the\n",
    "generic replacement �. But do you understand why this happens? Because\n",
    "myfile contains bytes entered as UTF-8 encoded text, displaying the same\n",
    "bytes in another encoding doesn't give the result we expect.]{.c0}\n",
    "\n",
    "[This is also explains why commands like cat don't work on so-called\n",
    "binary files, or opening them in an editor reveals only gibberish:\n",
    "they're not encoded as text.]{.c0}\n",
    "\n",
    "### [Text as bytes]{.c10 .c6} {#h.cyxrbqtirhnp .c5}\n",
    "\n",
    "[The example of El Niño shows that we can also take text --- a string\n",
    "typed in a terminal --- and use that as bytes. For instance, when we\n",
    "save text from an editor in a file. At first, this can be a tricky\n",
    "concept to wrap your head round. Bytes can be strings and strings are\n",
    "bytes. The important thing to remember is that whenever you handle text\n",
    "or characters, there is an (explicit or implicit) encoding at\n",
    "work.]{.c0}\n",
    "\n",
    "[When you think of it, code is text too, so some programming languages\n",
    "make certain encoding assumptions as well. Others just deal with text as\n",
    "bytes and leave the encoding up to other applications (such as a browser\n",
    "or a terminal).]{.c0}\n",
    "\n",
    "[Golang, for instance, is natively UTF-8, for instance, which means you\n",
    "can do this:]{.c0}\n",
    "\n",
    "[package main]{.c0}\n",
    "\n",
    "[import \\\"fmt\\\"]{.c0}\n",
    "\n",
    "[func main() {]{.c0}\n",
    "\n",
    "[fmt.Println(\\\"Hello, 世界\\\")]{.c0}\n",
    "\n",
    "[}]{.c0}\n",
    "\n",
    "[Python 3 is UTF-8 too, but Python 2 used to be ASCII. So, regardless of\n",
    "whether your code editor is able to display such a string or not, the\n",
    "Python 2 will complain if you try to use the print function on it.\n",
    "Remember, print tells a device to display bytes. So if you put this in a\n",
    "file test.py]{.c0}\n",
    "\n",
    "[print \\\"Hello, 世界\\\"]{.c0}\n",
    "\n",
    "[and execute it with Python 2, it will throw the following error.]{.c0}\n",
    "\n",
    "[py2 test.py]{.c0}\n",
    "\n",
    "[File \"test.py\", line 1]{.c0}\n",
    "\n",
    "SyntaxError: Non-ASCII character '\\\\xe4' in file test.py on line 1, but\n",
    "no encoding declared;\n",
    "see[ ](https://www.google.com/url?q=http://python.org/dev/peps/pep-0263/&sa=D&source=editors&ust=1634027861112000&usg=AOvVaw3vUTQvWiLTjHR3mrof1mi2){.c2}[[http://python.org/dev/peps/pep-0263/](https://www.google.com/url?q=http://python.org/dev/peps/pep-0263/&sa=D&source=editors&ust=1634027861113000&usg=AOvVaw3oj3rNIeTLG5dfO9ikZoJZ){.c2}]{.c8}[ for\n",
    "details]{.c0}\n",
    "\n",
    "[The bottom line is that you should always be careful when handling text\n",
    "and when in doubt use explicit encoding or decoding mechanisms.]{.c0}\n",
    "\n",
    "### [Handling multibyte characters]{.c10 .c6} {#h.unka7n42hfpa .c5}\n",
    "\n",
    "[There's a lot more to say about character encodings, but I'll wrap\n",
    "things up with an observation about multibyte characters that might\n",
    "prompt you to study the subject more in depth.]{.c0}\n",
    "\n",
    "[A popular question in code interviews is to ask the candidate to write\n",
    "(pseudo-)code to reverse a string. In Python, for instance, there is a\n",
    "nice oneliner for this, which uses a slice from end to start (::) that\n",
    "steps backward (-1 ):]{.c0}\n",
    "\n",
    "[\\>\\>\\> print(\\\"Hello World\\\"\\[::-1\\])]{.c0}\n",
    "\n",
    "[dlroW olleH]{.c0}\n",
    "\n",
    "Yet think about what happens under the hood. Apparently, there is a\n",
    "mechanism that iterates over the bytes that make up the string and\n",
    "reverses their order. But what happens when a character is represented\n",
    "by more than one byte? For instance, 界 , is four bytes in UTF-8 (e7 95\n",
    "8c 0a in hex). The first of these is a [leader]{.c11} byte, a byte\n",
    "reserved to start a specific multibyte sequence, the other three are\n",
    "[continuation]{.c11}[ bytes, which are only valid when preceded by a\n",
    "leader. So when you reverse these bytes, you end up with a different\n",
    "byte sequence, which is actually invalid UTF-8!]{.c0}\n",
    "\n",
    "[Fortunately, Python (which is natively UTF-8, remember) is able to\n",
    "handle this:]{.c0}\n",
    "\n",
    "[\\>\\>\\> print(\\\"Hello, 世界\\\"\\[::-1\\])]{.c0}\n",
    "\n",
    "[界世 ,olleH]{.c0}\n",
    "\n",
    "In other programming languages, though, you would have to write a\n",
    "function that identifies byte [units]{.c11}[ in the string and then\n",
    "reverse their order, not the bytes themselves. Which would imply\n",
    "knowledge of the string's encoding...]{.c0}\n",
    "\n",
    "### [Conclusion]{.c10 .c6} {#h.xizb2uw1rque .c5}\n",
    "\n",
    "[Text versus bytes is a complex issue that even advanced programmers can\n",
    "struggle with, or have tried to avoid for most of their careers.\n",
    "However, it is a fascinating reminder of the very essence of computing\n",
    "and understanding it, or at least the fundamentals, is really\n",
    "indispensable for any software developer.]{.c0}\n",
    "\n",
    "------------------------------------------------------------------------\n",
    "\n",
    "[]{.c0}\n",
    "\n",
    "If you're looking for another source to read up on the matter, you can\n",
    "start\n",
    "with[ ](https://www.google.com/url?q=https://www.joelonsoftware.com/2003/10/08/the-absolute-minimum-every-software-developer-absolutely-positively-must-know-about-unicode-and-character-sets-no-excuses/&sa=D&source=editors&ust=1634027861115000&usg=AOvVaw2zypVBE57SXVtVePxa12Xb){.c2}[[The\n",
    "Absolute Minimum Every Software Developer Absolutely, Positively Must\n",
    "Know About Unicode and Character Sets (No\n",
    "Excuses!)](https://www.google.com/url?q=https://www.joelonsoftware.com/2003/10/08/the-absolute-minimum-every-software-developer-absolutely-positively-must-know-about-unicode-and-character-sets-no-excuses/&sa=D&source=editors&ust=1634027861115000&usg=AOvVaw2zypVBE57SXVtVePxa12Xb){.c2}]{.c8} by[ ](https://www.google.com/url?q=https://www.joelonsoftware.com/about-me/&sa=D&source=editors&ust=1634027861115000&usg=AOvVaw2Y9mZmLPaZQCd9lXBEXFzb){.c2}[[Joel\n",
    "Spolsky](https://www.google.com/url?q=https://www.joelonsoftware.com/about-me/&sa=D&source=editors&ust=1634027861116000&usg=AOvVaw2U6lEkrtxnnUQXWuFb8tY3){.c2}]{.c8}[.]{.c0}\n",
    "\n",
    "[]{.c0}"
   ]
  },
  {
   "cell_type": "markdown",
   "metadata": {},
   "source": [
    "## Unicode\n",
    "\n",
    "Now that we have a better understanding of encoding, let's go back to our sorting example, and consider the application of [Unicode](https://en.wikipedia.org/wiki/Unicode) code points for mapping characters to numerical values. In Python we can use the function `ord()` to get a character's decimal Unicode code point:\n"
   ]
  },
  {
   "cell_type": "code",
   "execution_count": 6,
   "metadata": {
    "tags": []
   },
   "outputs": [
    {
     "name": "stdout",
     "output_type": "stream",
     "text": [
      "68,111,101,44,32,74,111,104,110,"
     ]
    }
   ],
   "source": [
    "for char in \"Doe, John\":\n",
    "    print(ord(char), end=\",\")"
   ]
  },
  {
   "cell_type": "markdown",
   "metadata": {},
   "source": [
    "So far so good, it seems. But matters quickly get complex. One example is the difference between upper and lower case:"
   ]
  },
  {
   "cell_type": "code",
   "execution_count": 2,
   "metadata": {
    "tags": []
   },
   "outputs": [
    {
     "name": "stdout",
     "output_type": "stream",
     "text": [
      "100,111,101,44,32,106,111,104,110,\n",
      "\n",
      "68,79,69,44,32,74,79,72,78,\n",
      "\n"
     ]
    }
   ],
   "source": [
    "for item in [\"doe, john\", \"DOE, JOHN\"]:\n",
    "    for char in item:\n",
    "        print(ord(char),end=\",\")\n",
    "    print(\"\\n\")"
   ]
  },
  {
   "cell_type": "markdown",
   "metadata": {},
   "source": [
    "You can account for that by converting all strings to lower case before sorting, but what happens in the case of the French `Étienne` versus `Etienne`, which you would want to be sorted close to each other and are, in fact, used interchangeably?"
   ]
  },
  {
   "cell_type": "code",
   "execution_count": 42,
   "metadata": {
    "tags": []
   },
   "outputs": [
    {
     "name": "stdout",
     "output_type": "stream",
     "text": [
      "é = 233\n",
      "t = 116\n",
      "i = 105\n",
      "e = 101\n",
      "n = 110\n",
      "n = 110\n",
      "e = 101\n",
      "\n",
      "\n",
      "e = 101\n",
      "t = 116\n",
      "i = 105\n",
      "e = 101\n",
      "n = 110\n",
      "n = 110\n",
      "e = 101\n"
     ]
    }
   ],
   "source": [
    "for char in \"Étienne\".lower():\n",
    "    print(char + \" = \" + str(ord(char)))\n",
    "print(\"\\n\")\n",
    "for char in \"Etienne\".lower():\n",
    "    print(char + \" = \" + str(ord(char)))"
   ]
  },
  {
   "cell_type": "markdown",
   "metadata": {},
   "source": [
    "We can complicate matters even more:"
   ]
  },
  {
   "cell_type": "code",
   "execution_count": 3,
   "metadata": {},
   "outputs": [
    {
     "name": "stdout",
     "output_type": "stream",
     "text": [
      "Å\n",
      "Å\n",
      "Å\n"
     ]
    }
   ],
   "source": [
    "print('\\u00C5')\n",
    "print('\\u212B')\n",
    "print('\\u0041\\u030A')"
   ]
  },
  {
   "cell_type": "markdown",
   "metadata": {},
   "source": [
    "This example shows that even Unicode code points don't offer a unique mapping of characters to numbers. To solve this, there is luckily something called [Unicode normalization](https://en.wikipedia.org/wiki/Unicode_equivalence#Normalization)__"
   ]
  },
  {
   "cell_type": "markdown",
   "metadata": {},
   "source": [
    "## Decoding\n",
    "\n",
    "It is important to realize that all text-oriented interfaces that you use to display text will make implicit or explicit assumptions about the encoding of texts. Whether it is your terminal environment, the editor you use (e.g. VSCode) or even a programming language, you need to be aware of such default encodings.\n",
    "\n",
    "For instance, Python3 (not Python2) is default UTF8. So if you receive strings in a different encoding, which will happen in real-life applications like scraping text from the internet, you'll have to decode them with the proper codec to render your results properly.\n",
    "\n",
    "Let's simulate what would happen if you were working with non-UTF8 encoded strings in Python3 and decode them with the default codec"
   ]
  },
  {
   "cell_type": "code",
   "execution_count": 5,
   "metadata": {},
   "outputs": [
    {
     "name": "stdout",
     "output_type": "stream",
     "text": [
      "b'\\xc3\\xa9'\n",
      "é\n",
      "b'\\xe9'\n",
      "Unable to print bytes b'\\xe9' in UTF8\n",
      "b'\\x82'\n",
      "Unable to print bytes b'\\x82' in UTF8\n"
     ]
    }
   ],
   "source": [
    "e_accent_aigue = chr(233)  # unicode code point for é character\n",
    "for encoding in ['utf8', 'latin1', 'ibm850']:\n",
    "    bytes_string = e_accent_aigue.encode(encoding=encoding)\n",
    "    print(bytes_string)\n",
    "    try:\n",
    "        print(bytes_string.decode())  # this is equal to .decode(encoding='utf8')\n",
    "    except UnicodeDecodeError:\n",
    "        print(f\"Unable to print bytes {bytes_string} in UTF8\")"
   ]
  },
  {
   "cell_type": "markdown",
   "metadata": {},
   "source": [
    "You can see how complex seemingly trivial tasks of information theory, like alphabetizing a list,really are. We've gone from Paul Otlet's grand visions of the future to the nitty-gritty bits and bytes, one of the most fundamental concepts in computer science, really quickly."
   ]
  },
  {
   "cell_type": "markdown",
   "metadata": {},
   "source": [
    "## Assignment: Onegram Counter\n",
    "\n",
    "You probably know about Google Book's __[Ngram Viewer](https://books.google.com/ngrams)__: when you enter phrases into it, it displays a graph showing how those phrases have occurred in a corpus of books (e.g., \"British English\", \"English Fiction\", \"French\") over the selected years. \n",
    "\n",
    "Your assignment for this course is something similar: build a Python function that can take the file `data/corpus.txt` (UTF-8 encoded) from this repo as an argument and print a count of the 100 most frequent 1-grams (i.e. single words).\n",
    "\n",
    "In essence the job is to do this:"
   ]
  },
  {
   "cell_type": "code",
   "execution_count": 8,
   "metadata": {
    "tags": []
   },
   "outputs": [
    {
     "name": "stdout",
     "output_type": "stream",
     "text": [
      "[('the', 11852), ('', 5952), ('of', 5768), ('and', 5264), ('to', 4027), ('a', 3980), ('in', 3548), ('that', 2336), ('his', 2061), ('it', 1517), ('as', 1490), ('i', 1488), ('with', 1460), ('he', 1448), ('is', 1400), ('was', 1393), ('for', 1337), ('but', 1319), ('all', 1148), ('at', 1116), ('this', 1063), ('by', 1042), ('from', 944), ('not', 933), ('be', 863), ('on', 850), ('so', 763), ('you', 718), ('one', 694), ('have', 658), ('had', 647), ('or', 638), ('were', 551), ('they', 547), ('are', 504), ('some', 498), ('my', 484), ('him', 480), ('which', 478), ('their', 478), ('upon', 475), ('an', 473), ('like', 470), ('when', 458), ('whale', 456), ('into', 452), ('now', 437), ('there', 415), ('no', 414), ('what', 413), ('if', 404), ('out', 397), ('up', 380), ('we', 379), ('old', 365), ('would', 350), ('more', 348), ('been', 338), ('over', 324), ('only', 322), ('then', 312), ('its', 307), ('such', 307), ('me', 307), ('other', 301), ('will', 300), ('these', 299), ('down', 270), ('any', 269), ('than', 262), ('has', 257), ('very', 252), ('though', 245), ('yet', 245), ('those', 242), ('must', 238), ('them', 237), ('her', 237), ('do', 234), ('about', 234), ('said', 233), ('ye', 232), ('who', 231), ('still', 229), ('great', 229), ('most', 228), ('man', 220), ('two', 219), ('seemed', 216), ('long', 214), ('your', 213), ('before', 212), ('it,', 210), ('thou', 210), ('ship', 209), ('after', 208), ('white', 207), ('did', 202), ('little', 201), ('him,', 194)]\n"
     ]
    }
   ],
   "source": [
    "from collections import Counter\n",
    "import os\n",
    "\n",
    "def onegrams(file):\n",
    "    with open(file, 'r') as corpus:\n",
    "        text = corpus.read()\n",
    "        # .casefold() is better than .lower() here\n",
    "        # https://www.programiz.com/python-programming/methods/string/casefold\n",
    "        normalize = text.casefold()\n",
    "        words = normalize.split(' ')\n",
    "        count = Counter(words) \n",
    "        return count\n",
    "\n",
    "ngram_viewer = onegrams(os.path.join('data', 'corpus.txt'))\n",
    "print(ngram_viewer.most_common(100))"
   ]
  },
  {
   "cell_type": "markdown",
   "metadata": {},
   "source": [
    "However, there is a twist: you can't use the `collections` library...\n",
    "\n",
    "Moreover, try to think about what may be suboptimal in this example. For instance, in this code all of the text is loaded into memory in one time (with the `read()` method). What would happen if we tried this on a really big text file? \n",
    "\n",
    "**Most importantly, the count is also wrong**. Check by counting in an editor, for instance, and try to find out why.\n",
    "\n",
    "If this is an easy task for you, you can also think about the graphical representation of the 1-gram count."
   ]
  },
  {
   "cell_type": "markdown",
   "metadata": {},
   "source": [
    "## Further reading\n",
    "\n",
    "- If you want to get a really good idea of how complex counting words can get, you can read this blog post __[Performance comparison: counting words in Python, Go, C++, C, AWK, Forth, and Rust](https://benhoyt.com/writings/count-words/)__."
   ]
  }
 ],
 "metadata": {
  "interpreter": {
   "hash": "916dbcbb3f70747c44a77c7bcd40155683ae19c65e1c03b4aa3499c5328201f1"
  },
  "kernelspec": {
   "display_name": "Python 3.8.10 64-bit",
   "name": "python3"
  },
  "language_info": {
   "codemirror_mode": {
    "name": "ipython",
    "version": 3
   },
   "file_extension": ".py",
   "mimetype": "text/x-python",
   "name": "python",
   "nbconvert_exporter": "python",
   "pygments_lexer": "ipython3",
   "version": "3.8.10"
  },
  "orig_nbformat": 2
 },
 "nbformat": 4,
 "nbformat_minor": 2
}
