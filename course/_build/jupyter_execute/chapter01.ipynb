{
 "cells": [
  {
   "cell_type": "markdown",
   "metadata": {},
   "source": [
    "# Chapter 1: Welcome"
   ]
  },
  {
   "cell_type": "markdown",
   "metadata": {},
   "source": [
    "![](images/data_to_conspiracy.jpg)\n",
    "\n",
    "Credit: unknown"
   ]
  },
  {
   "cell_type": "markdown",
   "metadata": {},
   "source": [
    "## Welcome\n",
    "\n",
    "Welcome to the course \"Information Science\" for the University of Antwerp [Master of Digital Text Analysis](https://www.uantwerpen.be/en/study/programmes/all-programmes/digital-text-analysis/)!"
   ]
  },
  {
   "cell_type": "markdown",
   "metadata": {},
   "source": [
    "## Who am I and why does that matter?\n",
    "\n",
    "### Who am I?\n",
    "\n",
    "My name is Tom Deneire and I am a professional **software engineer**.\n",
    "\n",
    "However, my carreer did not start in IT. On the contrary, I studied Classics (MA 2003, PhD 2009) and was active in the humanities for quite some time.\n",
    "\n",
    "From 2009-2013 I worked in **academia** as a postdoctoral researcher (Neo-Latin Studies) and a visiting professor (Latin rhetoric and stylistics), focussing mainly on the interplay of Neo-Latin and the vernacular, literary theory and dabbling in (then emerging) Digital Humanities (see e.g. [Deneire 2018](https://hdl.handle.net/10067/1535070151162165141)).\n",
    "\n",
    "In 2013 I moved to the **library world** (University Library of Antwerp) as Curator of the Special Collections, where I became increasingly interested in library metadata and data science. I learned the basics of XML, SQL and Python, and started using these tools to research and aggregate library metadata.\n",
    "\n",
    "In 2018 this lead to a switch from the Special Collections to the library's **software department** [Anet](https://www.uantwerpen.be/nl/projecten/anet/), where I have been working since on a product called [Brocade Library Services](https://en.wikipedia.org/wiki/Brocade_Library_Services). My technology stack mainly includes Python and especially [MUMPS](https://en.wikipedia.org/wiki/MUMPS), the language for our database engine (GT.M, provided by [YottaDB](https://yottadb.com/)). My current project is a complete rewrite and integration of the library's two modules for authority control. Occasionally, I also use SQL, Golang, HTML/CSS, Javascript and PHP. My OS of choice is Linux (i.c. the [Linux Mint](https://linuxmint.com/) distro).\n",
    "\n",
    "(More information about me and links at [https://tomdeneire.github.io/](https://tomdeneire.github.io/)).\n",
    "\n",
    "### Why does that matter?\n",
    "\n",
    "This should make clear that I am not an academic expert in Information Science, nor have I been a professional developer for a long time. Indeed, at first I was not sure if I was the best person to teach this course! So it goes without saying that I will certainly not have all the answers in this course. \n",
    "\n",
    "On the other hand, my profile is very kindred to that of my **intended audience**, which I think of as humanities majors looking to acquire digital skills. I hope this common perspective will enable me to teach what such students need most from a vast field such as Information Science."
   ]
  },
  {
   "cell_type": "markdown",
   "metadata": {},
   "source": [
    "## Contents and learning outcomes\n",
    "\n",
    "My specific profile also implies that this will not be a standard introduction to Information Science. If this is really what you are after, there is enough  literature out there to acquire this knowledge by yourself. \n",
    "\n",
    "Instead what is offered here is a very **hands-on introduction** into information science and the technologies used in the field. Think of this class as an internship with an information systems company, rather than an academic course! The aim of this course is to provide you with a minimum of theoretical knowledge, but a maximum of practical experience.\n",
    "\n",
    "The course will discuss the following topics:\n",
    "\n",
    "1. Definition, history, ethics\n",
    "2. Encoding\n",
    "3. Databases\n",
    "4. Metadata\n",
    "5. Indexing\n",
    "6. Searching\n",
    "7. Library Management Systems\n",
    "\n",
    "In line with the hands-on nature of this course, most chapters will end with a **coding assignment**, designed to offer a realistic example of a real-world implementation of the technology discussed in the chapter."
   ]
  },
  {
   "cell_type": "markdown",
   "metadata": {},
   "source": [
    "## Reading\n",
    "\n",
    "Given the very applied nature of this course, it is probably a good idea to supplement this course with some additional reading. I have included several suggestions for optional reading in the [course details](https://tomdeneire.github.io/InformationScience/coursedetails.html), one of which I highly recommend, namely **Foundations of Information**, by Amy J. Ko (2021), available as a free [e-book](https://faculty.washington.edu/ajko/books/foundations-of-information/) and [GitHub repository](https://github.com/amyjko/foundations-of-information). Whereas this course focuses on the practical side of things, this book is an exemplary theoretical (but very readable!) introduction into the topic of information.   \n",
    "\n",
    "Aside from that, I also often refer to [Medium](https://medium.com/), an online publishing platform for blogs dealing with just about anything, but with a strong emphasis on software and technology. Medium lets you configure your interests so you get a personalized list of reading suggestions. Most articles on Medium are free and the site also allows you to read up to 3 premium articles for free every month. Personally, I find a paying membership more than worthwile.\n"
   ]
  },
  {
   "cell_type": "markdown",
   "metadata": {},
   "source": [
    "## Technical requirements\n",
    "\n",
    "This course is available as a series of Jupyter Notebooks and published on the [GitHub repository](https://github.com/TomDeneire/InformationScience) for this course. \n",
    "\n",
    "To view the content **with code execution**, you can:\n",
    "\n",
    "1. Use an editor with a Jupyter Notebook extension, such as [VS Code](https://code.visualstudio.com/)\n",
    "2. Install [Jupyter](https://jupyter.org/install) (Lab or Notebook) locally and open the notebooks in your browser\n",
    "\n",
    "If you don't want to install Jupyter on your machine, you can open the notebooks with [Google Colab](https://colab.research.google.com/notebooks/), but executing the code isn't always guaranteed to work (because of missing third-party libraries and stack overflows in heavy data operations).\n",
    "\n",
    "To view the content **without code execution**, you can:\n",
    "\n",
    "1. Read the notebooks in the [GitHub repository](https://github.com/TomDeneire/InformationScience/tree/main/course)\n",
    "2. Read the notebooks as a Jupyter Book hosted on [GitHub Pages](https://tomdeneire.github.io/InformationScience)\n",
    "\n",
    "The best way to obtain these course materials on your local machine and to participate with the course, is to:\n",
    "\n",
    "1. Get a GitHub account (if you don't already have one)\n",
    "2. Fork this repo to your own GitHub account\n",
    "3. Clone the repo to your local machine\n",
    "4. Make a new folder in the repo and push changes \n",
    "\n",
    "The fourth step especially applies to the coding assignments, so to be sure you are set up okay, please do the following:\n",
    "\n",
    "1. Create a new folder `assignments`\n",
    "2. Put an empty file `test.py` in it \")\n",
    "3. Add the new folder to the repo\n",
    "4. Commit and push these changes to your fork \n",
    "\n",
    "And of course if you find errors in the other course materials or want to propose changes or additions, I am very open to pull requests.\n",
    "\n",
    "### Help!\n",
    "\n",
    "If you're unsure how to do all of this, this [GitHub guide](https://guides.github.com/activities/forking/) will help. \n",
    "\n",
    "Other interesting sources on Git are this [Medium article](https://link.medium.com/w1ShAzxQE9) and Atlassian's [tutorial](https://www.atlassian.com/git/tutorials/what-is-git). This [Medium article](https://link.medium.com/NdBy7ILHIbb) contains even more references to cheatsheets, tutorials, etc.\n",
    "\n",
    "Bear in mind that you can use Git from the command line (which I would always advise in the learning stages), but that there are also desktop applications, such as [GitHub Desktop](https://desktop.github.com/) or integrations for your editor, such as [GitLens](https://marketplace.visualstudio.com/items?itemName=eamodio.gitlens) for VSCode.\n",
    "\n"
   ]
  },
  {
   "cell_type": "markdown",
   "metadata": {},
   "source": [
    "\n",
    "```{toctree}\n",
    ":hidden:\n",
    ":titlesonly:\n",
    "\n",
    "\n",
    "chapter02\n",
    "chapter03\n",
    "chapter04\n",
    "chapter05\n",
    "chapter06\n",
    "chapter07\n",
    "chapter08\n",
    "coursedetails\n",
    "project\n",
    "```\n"
   ]
  }
 ],
 "metadata": {
  "kernelspec": {
   "display_name": "Python 3.8.5 64-bit",
   "metadata": {
    "interpreter": {
     "hash": "31f2aee4e71d21fbe5cf8b01ff0e069b9275f58929596ceb00d14d90e3e16cd6"
    }
   },
   "name": "python3"
  },
  "language_info": {
   "codemirror_mode": {
    "name": "ipython",
    "version": 3
   },
   "file_extension": ".py",
   "mimetype": "text/x-python",
   "name": "python",
   "nbconvert_exporter": "python",
   "pygments_lexer": "ipython3",
   "version": "3.8.5-final"
  }
 },
 "nbformat": 4,
 "nbformat_minor": 4
}