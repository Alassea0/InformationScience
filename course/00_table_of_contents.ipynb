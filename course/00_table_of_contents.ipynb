{
 "metadata": {
  "language_info": {
   "codemirror_mode": {
    "name": "ipython",
    "version": 3
   },
   "file_extension": ".py",
   "mimetype": "text/x-python",
   "name": "python",
   "nbconvert_exporter": "python",
   "pygments_lexer": "ipython3",
   "version": "3.8.2-final"
  },
  "orig_nbformat": 2,
  "kernelspec": {
   "name": "Python 3.8.2 64-bit",
   "display_name": "Python 3.8.2 64-bit",
   "metadata": {
    "interpreter": {
     "hash": "31f2aee4e71d21fbe5cf8b01ff0e069b9275f58929596ceb00d14d90e3e16cd6"
    }
   }
  }
 },
 "nbformat": 4,
 "nbformat_minor": 2,
 "cells": [
  {
   "source": [
    "# Table of Contents"
   ],
   "cell_type": "markdown",
   "metadata": {}
  },
  {
   "cell_type": "code",
   "execution_count": 49,
   "metadata": {
    "tags": []
   },
   "outputs": [
    {
     "output_type": "stream",
     "name": "stdout",
     "text": " CHAPTER 1: SETUP\n\n\t\t Welcome\n\n\t\t Who am I and why does that matter?\n\n\t\t\t Who am I?\n\n\t\t\t Why does that matter?\n\n\t\t Technical setup\n\n\t\t Course and assignments\n\n\t\t Exam: Project assignment\n\n\t\t Required reading\n\n\t\t Things you might find interesting\n\n\t\t Students\n\n CHAPTER 2: DEFINITION\n\n\t\t Definition\n\n\t\t\t Information Science, Retrieval or Theory?\n\n\t\t\t\t Information Theory\n\n\t\t\t\t Information Retrieval\n\n\t\t\t\t Information Science\n\n\t\t History\n\n\t\t Ethics\n\n CHAPTER 3: GETTING STARTED\n\n\t\t Getting started\n\n\t\t Manipulating Information\n\n\t\t Example: sorting strings\n\n\t\t Assignment: Onegram Counter\n\n CHAPTER 4: DATABASES\n\n\t\t Information vs Database Models\n\n\t\t Databases\n\n\t\t\t Database models\n\n\t\t\t\t Navigational\n\n\t\t\t\t Relational/SQL\n\n\t\t\t\t Post-relational\n\n\t\t\t Databases as Linked Data\n\n\t\t Query Languages\n\n\t\t\t CQL\n\n\t\t\t XML\n\n\t\t\t SQL\n\n\t\t Assignment: JSON metadata harvester\n\n\t\t\t JSON\n\n\t\t\t Some tips:\n\n CHAPTER 5: METADATA\n\n\t\t Metadata\n\n\t\t It's complicated\n\n\t\t Metadata 101\n\n\t\t\t Cataloguing standards\n\n\t\t\t Metadata standards\n\n\t\t\t Exports\n\n\t\t\t\t Examples for book history\n\n\t\t Excursus: DH example\n\n\t\t\t Disclaimer\n\n\t\t Assignment: MARC21 to Dublin Core for OAI\n\n\t\t\t Tips\n\n CHAPTER 6: INDEXING\n\n\t\t Searching\n\n\t\t Indexing\n\n\t\t Excursus: Bitmap indexing\n\n\t\t Lucene\n\n\t\t Whoosh\n\n\t\t Assignment: Morphology tool\n\n CHAPTER 7: SEARCHING, EVALUATION, RANKING\n\n\t\t Introduction\n\n\t\t Searching\n\n\t\t\t Regular expressions\n\n\t\t\t Fuzzy searching\n\n\t\t\t\t String metrics\n\n\t\t Search evaluation and ranking\n\n\t\t Assignment: Spelling checker\n\n CHAPTER 8: LIBRARY MANAGEMENT SYSTEMS\n\n\t\t Assignment: YottaDB Acculturation Workshop\n\n"
    }
   ],
   "source": [
    "import os\n",
    "from json import loads\n",
    "import re\n",
    "\n",
    "hashtag = re.compile(r'\\#')\n",
    "\n",
    "for filepath in sorted(os.listdir(\".\")):\n",
    "    if filepath.startswith(\"chapter\") and filepath.endswith(\".ipynb\"):\n",
    "        with open(filepath, \"r\") as notebook:\n",
    "            metadata = loads(notebook.read())\n",
    "            for cell in metadata[\"cells\"]:\n",
    "                if cell[\"cell_type\"] == \"markdown\":\n",
    "                    for line in cell[\"source\"]:\n",
    "                        if \"# \" in line:\n",
    "                            line = line.strip()\n",
    "                            if not line.endswith(\"\\n\"):\n",
    "                                line = line + \"\\n\"\n",
    "                            if line.count(\"#\") == 1:\n",
    "                                line = line.replace(\"#\",\"\").upper()\n",
    "                            line = re.sub(hashtag, \"\\t\", line)\n",
    "                            print(line)\n"
   ]
  },
  {
   "cell_type": "code",
   "execution_count": null,
   "metadata": {},
   "outputs": [],
   "source": []
  }
 ]
}