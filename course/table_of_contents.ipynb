{
 "metadata": {
  "language_info": {
   "codemirror_mode": {
    "name": "ipython",
    "version": 3
   },
   "file_extension": ".py",
   "mimetype": "text/x-python",
   "name": "python",
   "nbconvert_exporter": "python",
   "pygments_lexer": "ipython3",
   "version": "3.8.2-final"
  },
  "orig_nbformat": 2,
  "kernelspec": {
   "name": "Python 3.8.2 64-bit",
   "display_name": "Python 3.8.2 64-bit",
   "metadata": {
    "interpreter": {
     "hash": "31f2aee4e71d21fbe5cf8b01ff0e069b9275f58929596ceb00d14d90e3e16cd6"
    }
   }
  }
 },
 "nbformat": 4,
 "nbformat_minor": 2,
 "cells": [
  {
   "source": [
    "# Table of Contents"
   ],
   "cell_type": "markdown",
   "metadata": {}
  },
  {
   "cell_type": "code",
   "execution_count": 47,
   "metadata": {
    "tags": []
   },
   "outputs": [
    {
     "output_type": "stream",
     "name": "stdout",
     "text": " CHAPTER 1: SETUP\n\n     Welcome\n\n     Who am I and why does that matter?\n\n       Who am I?\n\n       Why does that matter?\n\n     Technical setup\n\n     Course and assignments\n\n     Exam: Project assignment\n\n     Required reading\n\n     Things you might find interesting\n\n     Students\n\n CHAPTER 2: DEFINITION\n\n     Definition\n\n       Information Science, Retrieval or Theory?\n\n         Information Theory\n\n         Information Retrieval\n\n         Information Science\n\n     History\n\n     Ethics\n\n CHAPTER 3: GETTING STARTED\n\n     Getting started\n\n     Manipulating Information\n\n     Example: sorting strings\n\n     Assignment: Onegram Counter\n\n CHAPTER 4: DATABASES\n\n     Information vs Database Models\n\n     Databases\n\n       Database models\n\n         Navigational\n\n         Relational/SQL\n\n         Post-relational\n\n       Databases as Linked Data\n\n     Query Languages\n\n       CQL\n\n       XML\n\n       SQL\n\n     Assignment: JSON metadata harvester\n\n       JSON\n\n       Some tips:\n\n CHAPTER 5: METADATA\n\n     Metadata\n\n     It's complicated\n\n     Metadata 101\n\n       Cataloguing standards\n\n       Metadata standards\n\n       Exports\n\n         Examples for book history\n\n     Excursus: DH example\n\n       Disclaimer\n\n     Assignment: MARC21 to Dublin Core for OAI\n\n       Tips\n\n CHAPTER 6: INDEXING\n\n     Searching\n\n     Indexing\n\n     Excursus: Bitmap indexing\n\n     Lucene\n\n     Whoosh\n\n>        About Whoosh\n\n>        What is Woosh\n\n     Assignment: Morphology tool\n\n CHAPTER 7: SEARCHING, EVALUATION, RANKING\n\n     Introduction\n\n     Searching\n\n       Regular expressions\n\n       Fuzzy searching\n\n         String metrics\n\n     Search evaluation and ranking\n\n     Assignment: Spelling checker\n\n CHAPTER 8: LIBRARY MANAGEMENT SYSTEMS\n\n     Assignment: YottaDB Acculturation Workshop\n\n"
    }
   ],
   "source": [
    "import os\n",
    "from json import loads\n",
    "import re\n",
    "\n",
    "hashtag = re.compile(r'\\#')\n",
    "\n",
    "for filepath in sorted(os.listdir(\".\")):\n",
    "    if filepath.startswith(\"chapter\") and filepath.endswith(\".ipynb\"):\n",
    "        with open(filepath, \"r\") as notebook:\n",
    "            metadata = loads(notebook.read())\n",
    "            for cell in metadata[\"cells\"]:\n",
    "                if cell[\"cell_type\"] == \"markdown\":\n",
    "                    for line in cell[\"source\"]:\n",
    "                        if \"# \" in line:\n",
    "                            line = line.strip()\n",
    "                            if not line.endswith(\"\\n\"):\n",
    "                                line = line + \"\\n\"\n",
    "                            if line.count(\"#\") == 1:\n",
    "                                line = line.replace(\"#\",\"\").upper()\n",
    "                            line = re.sub(hashtag, \"\\t\", line)\n",
    "                            print(line)\n"
   ]
  },
  {
   "cell_type": "code",
   "execution_count": null,
   "metadata": {},
   "outputs": [],
   "source": []
  }
 ]
}